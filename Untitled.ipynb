{
 "cells": [
  {
   "cell_type": "code",
   "execution_count": 2,
   "id": "0b48328a",
   "metadata": {},
   "outputs": [],
   "source": [
    "import cv2"
   ]
  },
  {
   "cell_type": "code",
   "execution_count": 3,
   "id": "ebf22e5a",
   "metadata": {},
   "outputs": [],
   "source": [
    "image = cv2.imread(\"belimbing wuluh/001.jpg\")"
   ]
  },
  {
   "cell_type": "code",
   "execution_count": 4,
   "id": "1a2efca9",
   "metadata": {},
   "outputs": [],
   "source": [
    "cv2.imshow('leaf',image)\n",
    "cv2.waitKey(0)\n",
    "cv2.destroyAllWindows()"
   ]
  },
  {
   "cell_type": "code",
   "execution_count": 7,
   "id": "17eaf106",
   "metadata": {},
   "outputs": [
    {
     "name": "stdout",
     "output_type": "stream",
     "text": [
      "(200, 300, 3)\n"
     ]
    }
   ],
   "source": [
    "#im_crop = image[100:660,100:380]\n",
    "im_crop = image[100:300,100:380]\n",
    "cv2.imshow('crop',im_crop)\n",
    "cv2.waitKey(0)\n",
    "cv2.destroyAllWindows()\n",
    "print(im_crop.shape)"
   ]
  },
  {
   "cell_type": "code",
   "execution_count": 4,
   "id": "722d15f8",
   "metadata": {},
   "outputs": [
    {
     "name": "stdout",
     "output_type": "stream",
     "text": [
      "[[[129 147 164]\n",
      "  [127 145 162]\n",
      "  [129 147 164]\n",
      "  ...\n",
      "  [131 142 156]\n",
      "  [133 144 158]\n",
      "  [135 146 160]]\n",
      "\n",
      " [[126 144 161]\n",
      "  [125 143 160]\n",
      "  [127 145 162]\n",
      "  ...\n",
      "  [135 146 160]\n",
      "  [133 144 158]\n",
      "  [133 144 158]]\n",
      "\n",
      " [[127 145 162]\n",
      "  [127 145 162]\n",
      "  [128 146 163]\n",
      "  ...\n",
      "  [136 147 161]\n",
      "  [132 143 157]\n",
      "  [132 143 157]]\n",
      "\n",
      " ...\n",
      "\n",
      " [[214 232 255]\n",
      "  [214 232 255]\n",
      "  [214 232 255]\n",
      "  ...\n",
      "  [129 138 152]\n",
      "  [129 138 152]\n",
      "  [128 137 151]]\n",
      "\n",
      " [[213 231 254]\n",
      "  [213 231 254]\n",
      "  [213 231 254]\n",
      "  ...\n",
      "  [129 138 152]\n",
      "  [129 138 152]\n",
      "  [128 137 151]]\n",
      "\n",
      " [[213 231 254]\n",
      "  [213 231 254]\n",
      "  [213 231 254]\n",
      "  ...\n",
      "  [128 137 151]\n",
      "  [128 137 151]\n",
      "  [127 136 150]]]\n"
     ]
    }
   ],
   "source": [
    "print(image)"
   ]
  },
  {
   "cell_type": "code",
   "execution_count": 5,
   "id": "66338136",
   "metadata": {},
   "outputs": [
    {
     "name": "stdout",
     "output_type": "stream",
     "text": [
      "blue= 150\n",
      "green= 167\n",
      "red= 186\n"
     ]
    }
   ],
   "source": [
    "(b,g,r) = image[20,100]\n",
    "print(\"blue=\",b)\n",
    "print(\"green=\",g)\n",
    "print(\"red=\",r)"
   ]
  },
  {
   "cell_type": "code",
   "execution_count": 5,
   "id": "4a9fe279",
   "metadata": {},
   "outputs": [
    {
     "name": "stdout",
     "output_type": "stream",
     "text": [
      "(1200, 1600, 3)\n"
     ]
    }
   ],
   "source": [
    "cp_image = image.copy()\n",
    "print(cp_image.shape)"
   ]
  },
  {
   "cell_type": "code",
   "execution_count": null,
   "id": "4eae4d1d",
   "metadata": {},
   "outputs": [],
   "source": []
  }
 ],
 "metadata": {
  "kernelspec": {
   "display_name": "Python 3",
   "language": "python",
   "name": "python3"
  },
  "language_info": {
   "codemirror_mode": {
    "name": "ipython",
    "version": 3
   },
   "file_extension": ".py",
   "mimetype": "text/x-python",
   "name": "python",
   "nbconvert_exporter": "python",
   "pygments_lexer": "ipython3",
   "version": "3.8.8"
  }
 },
 "nbformat": 4,
 "nbformat_minor": 5
}
